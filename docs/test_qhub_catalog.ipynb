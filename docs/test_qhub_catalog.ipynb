{
 "cells": [
  {
   "cell_type": "code",
   "execution_count": 2,
   "metadata": {},
   "outputs": [
    {
     "data": {
      "application/yaml": "qhub_catalog:\n  args:\n    path: c:\\users\\tbone\\documents\\qhub-catalog\\qhub_catalog\\qhub_catalog.yml\n  description: ''\n  driver: intake.catalog.local.YAMLFileCatalog\n  metadata: {}\n",
      "text/plain": [
       "qhub_catalog:\n",
       "  args:\n",
       "    path: c:\\users\\tbone\\documents\\qhub-catalog\\qhub_catalog\\qhub_catalog.yml\n",
       "  description: ''\n",
       "  driver: intake.catalog.local.YAMLFileCatalog\n",
       "  metadata: {}\n"
      ]
     },
     "metadata": {
      "application/json": {
       "root": "qhub_catalog"
      }
     },
     "output_type": "display_data"
    }
   ],
   "source": [
    "from qhub_catalog import catalog\n",
    "catalog"
   ]
  }
 ],
 "metadata": {
  "interpreter": {
   "hash": "6624ee388a1c346f3d0811b591fe9e170807496b8a5fea1a5f5986a819dc2334"
  },
  "kernelspec": {
   "display_name": "Python 3.9.7 ('base')",
   "language": "python",
   "name": "python3"
  },
  "language_info": {
   "codemirror_mode": {
    "name": "ipython",
    "version": 3
   },
   "file_extension": ".py",
   "mimetype": "text/x-python",
   "name": "python",
   "nbconvert_exporter": "python",
   "pygments_lexer": "ipython3",
   "version": "3.9.7"
  },
  "orig_nbformat": 4
 },
 "nbformat": 4,
 "nbformat_minor": 2
}
